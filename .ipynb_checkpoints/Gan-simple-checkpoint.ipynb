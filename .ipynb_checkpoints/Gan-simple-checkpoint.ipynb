{
 "cells": [
  {
   "cell_type": "code",
   "execution_count": 1,
   "metadata": {},
   "outputs": [
    {
     "name": "stderr",
     "output_type": "stream",
     "text": [
      "/anaconda3/lib/python3.6/site-packages/h5py/__init__.py:34: FutureWarning: Conversion of the second argument of issubdtype from `float` to `np.floating` is deprecated. In future, it will be treated as `np.float64 == np.dtype(float).type`.\n",
      "  from ._conv import register_converters as _register_converters\n",
      "Using TensorFlow backend.\n"
     ]
    },
    {
     "name": "stdout",
     "output_type": "stream",
     "text": [
      "Train (60000, 28, 28) (60000,)\n",
      "Test (10000, 28, 28) (10000,)\n"
     ]
    }
   ],
   "source": [
    "# example of loading the mnist dataset\n",
    "from keras.datasets.mnist import load_data\n",
    "# load the 28x28 images into memory\n",
    "(trainX, trainy), (testX, testy) = load_data()\n",
    "# summarize the shape of the dataset\n",
    "print('Train', trainX.shape, trainy.shape)\n",
    "print('Test', testX.shape, testy.shape)"
   ]
  },
  {
   "cell_type": "code",
   "execution_count": 33,
   "metadata": {},
   "outputs": [],
   "source": [
    "import tensorflow as tf\n",
    "from tensorflow import keras"
   ]
  },
  {
   "cell_type": "code",
   "execution_count": 10,
   "metadata": {},
   "outputs": [
    {
     "data": {
      "image/png": "[encoded data removed]",
      "text/plain": [
       "<matplotlib.figure.Figure at 0x182ec0ba58>"
      ]
     },
     "metadata": {},
     "output_type": "display_data"
    }
   ],
   "source": [
    "from matplotlib import pyplot as plt\n",
    "#plot 1st 10 hand written digits in black with white background\n",
    "for i in range(10):\n",
    "    plt.subplot(5,5,1 + i)\n",
    "    plt.imshow(trainX[i], cmap='gray_r')\n",
    "plt.show()"
   ]
  },
  {
   "cell_type": "code",
   "execution_count": 73,
   "metadata": {},
   "outputs": [],
   "source": [
    "# Update images to have an additional channel for greyscale\n",
    "\n",
    "X = keras.backend.expand_dims(trainX, axis=-1)\n"
   ]
  },
  {
   "cell_type": "code",
   "execution_count": 46,
   "metadata": {},
   "outputs": [],
   "source": []
  },
  {
   "cell_type": "markdown",
   "metadata": {},
   "source": [
    "## Create Descriminator Model\n",
    "\n",
    "This is a binary classificaiton model that takes a sample image from the dataset as input and predict if it is fake or real.  \n",
    "\n",
    "- Real samples will come from MNIST digits\n",
    "- fake will come from our generator\n",
    "\n",
    "Our model will be a CNN with:\n",
    "- 32 filters and\n",
    "- kernel size of 3.\n",
    "- Stride of 2\n",
    "- no pooling layer\n",
    "- we use leaky relu to avoid dead layers\n",
    "- sigmoid activation\n",
    "- Adam optimizer used to improve learning speed of learning\n",
    "\n",
    "\n"
   ]
  },
  {
   "cell_type": "code",
   "execution_count": 27,
   "metadata": {},
   "outputs": [
    {
     "name": "stdout",
     "output_type": "stream",
     "text": [
      "_________________________________________________________________\n",
      "Layer (type)                 Output Shape              Param #   \n",
      "=================================================================\n",
      "conv2d_13 (Conv2D)           (None, 14, 14, 64)        640       \n",
      "_________________________________________________________________\n",
      "leaky_re_lu_11 (LeakyReLU)   (None, 14, 14, 64)        0         \n",
      "_________________________________________________________________\n",
      "dropout_10 (Dropout)         (None, 14, 14, 64)        0         \n",
      "_________________________________________________________________\n",
      "conv2d_14 (Conv2D)           (None, 7, 7, 32)          18464     \n",
      "_________________________________________________________________\n",
      "leaky_re_lu_12 (LeakyReLU)   (None, 7, 7, 32)          0         \n",
      "_________________________________________________________________\n",
      "dropout_11 (Dropout)         (None, 7, 7, 32)          0         \n",
      "_________________________________________________________________\n",
      "flatten_5 (Flatten)          (None, 1568)              0         \n",
      "_________________________________________________________________\n",
      "dense_5 (Dense)              (None, 1)                 1569      \n",
      "=================================================================\n",
      "Total params: 20,673\n",
      "Trainable params: 20,673\n",
      "Non-trainable params: 0\n",
      "_________________________________________________________________\n"
     ]
    }
   ],
   "source": []
  },
  {
   "cell_type": "code",
   "execution_count": 160,
   "metadata": {},
   "outputs": [],
   "source": [
    "#returns n samples of random true images with true labels\n",
    "import numpy as np\n",
    "from numpy import expand_dims\n",
    "from numpy import ones\n",
    "from numpy import zeros\n",
    "from numpy.random import rand\n",
    "from numpy.random import randint\n",
    "from keras.models import Sequential\n",
    "from keras.layers import Dense, Activation, Conv2D, Flatten, LeakyReLU, Dropout\n",
    "from keras.optimizers import Adam\n",
    "from keras.utils.vis_utils import plot_model\n",
    "\n",
    "# load and prepare mnist training images\n",
    "def load_real_samples():\n",
    "    # load mnist dataset\n",
    "    (trainX, _), (_, _) = load_data()\n",
    "    # expand to 3d, e.g. add channels dimension\n",
    "    X = expand_dims(trainX, axis=3)\n",
    "    # convert from unsigned ints to floats\n",
    "    X = X.astype(float)\n",
    "    # scale from [0,255] to [0,1]\n",
    "    X = X / 255.0\n",
    "    return X\n",
    "\n",
    "def real_sampler(data, num_samples):\n",
    "    #random samples\n",
    "    ran = randint(num_samples, data.shape[0])\n",
    "    X = data[ran-num_samples:ran]\n",
    "    y = zeros((num_samples, 1))\n",
    "    return(X,y)\n",
    "\n",
    "def fake_sampler(num_samples):\n",
    "    # generate uniform random numbers in [0,1]\n",
    "    X = rand(28 * 28 * num_samples)\n",
    "    # reshape into a batch of grayscale images\n",
    "    X = X.reshape((num_samples, 28, 28, 1))\n",
    "    # generate 'fake' class labels (0)\n",
    "    y = zeros((num_samples, 1))\n",
    "    return X, y\n",
    "\n",
    "\n",
    "\n",
    "img_shape = (28,28,1)\n",
    "def descriminator():\n",
    "    model= Sequential()\n",
    "    model.add(Conv2D(64, (3,3), strides=(2,2), padding= 'same', input_shape=img_shape))\n",
    "    model.add(LeakyReLU(alpha=.2))\n",
    "    model.add(Dropout(.2))\n",
    "    model.add(Conv2D(32, (3,3), strides=(2,2), padding= 'same'))\n",
    "    model.add(LeakyReLU(alpha=.2))\n",
    "    model.add(Dropout(.2))\n",
    "    model.add(Flatten())\n",
    "    model.add(Dense(1, activation='sigmoid'))\n",
    "    model.compile(loss='binary_crossentropy', optimizer=Adam(lr=.0002), metrics=['accuracy'])\n",
    "    return model "
   ]
  },
  {
   "cell_type": "markdown",
   "metadata": {},
   "source": [
    "## Train the Discriminator\n",
    "\n",
    "We repeatedly sample real and fake generated images and update the model.  The model will learn to discriminate between real and fake images.   We will update it seperatly for real and fake images so we can test the accuracy seperately."
   ]
  },
  {
   "cell_type": "code",
   "execution_count": 134,
   "metadata": {
    "collapsed": true
   },
   "outputs": [],
   "source": [
    "def train_discriminator(model, data, num_iter, num_batch):\n",
    "    half_batch = int(num_batch/2)\n",
    "    for i in range(num_iter):\n",
    "        # get real samples\n",
    "        X_real, y_real = real_sampler(data, half_batch)\n",
    "        #train discriminator on real samples\n",
    "        _, real_acc = model.train_on_batch(X_real, y_real)\n",
    "        # get fake\n",
    "        X_fake, y_fake = fake_sampler(half_batch)\n",
    "        # train discrimanor on fake\n",
    "        _, fake_acc = model.train_on_batch(X_fake, y_fake)\n",
    "        #perfomrance\n",
    "        print('>%d real=%.0f%% fake=%.0f%%' % (i+1, real_acc*100, fake_acc*100))"
   ]
  },
  {
   "cell_type": "code",
   "execution_count": 135,
   "metadata": {},
   "outputs": [
    {
     "name": "stdout",
     "output_type": "stream",
     "text": [
      ">1 real=30% fake=70%\n",
      ">2 real=62% fake=92%\n",
      ">3 real=72% fake=100%\n",
      ">4 real=92% fake=100%\n",
      ">5 real=100% fake=100%\n",
      ">6 real=100% fake=100%\n",
      ">7 real=100% fake=100%\n",
      ">8 real=100% fake=100%\n",
      ">9 real=100% fake=100%\n",
      ">10 real=100% fake=100%\n"
     ]
    }
   ],
   "source": [
    "model = descriminator()\n",
    "data = load_real_samples()\n",
    "train_discriminator(model, data, 10, 100)\n",
    "#plot_model(model, to_file='discriminator_plot.png', show_shapes=True, show_layer_names=True)"
   ]
  },
  {
   "cell_type": "markdown",
   "metadata": {},
   "source": [
    "## Create the  Generator\n",
    "\n",
    "The generator will be tasked with creating new fake images of handwritten digits.\n",
    "\n",
    "### Input: \n",
    "\n",
    "A 100 dimension vector representing latent features.  Each dimension will be randomly sampled from a Gausian distribution. \n",
    "\n",
    "### Output\n",
    "\n",
    "Two dimesnional 28 x 28 pixel grayscale image with a pixel value between 0 and 1\n",
    "\n",
    "Output: A vector that represents a compressed representation of the output space.\n",
    "\n",
    "### Architecture\n",
    "\n",
    "A Deep CNN GAN with two main components\n",
    "\n",
    "#### Dense Layer\n",
    "\n",
    "This first hidden layer will represent a low resolution version of the image.  We will use 25% of the resolution of the original image so 7 X 7 = 49 pixels.\n",
    "\n",
    "Each filter in our Dense CNN layer will represent a version of the image running in parralel.  These filters will eventually collapse into one image as move through the CNN. We will arbitrarily start by use 256 filters.\n",
    "\n",
    "Therefore, Our Dense layer will have (256 X 7 X 7) nodes\n",
    "\n",
    "We will need to reshape these nodes into something image like to pass into a CNN\n",
    "\n",
    "\n",
    "#### Deconvolution(Upsampling)\n",
    "\n",
    "We want the end result to be as visually accurate as possible so we want to upsample to a higher dimension.  We will use a reverse pooling before using the convolusional 2D layer.  We can accomplish both these by using Conv2DTranspose.  The end \n",
    "\n",
    "\n",
    "#### Leaky ReLU\n",
    "\n",
    "We will not get into the details of this layer but it is recomended over normal relu activation\n",
    "\n",
    "\n",
    "\n",
    "\n",
    "\n",
    "\n",
    " "
   ]
  },
  {
   "cell_type": "code",
   "execution_count": 146,
   "metadata": {},
   "outputs": [
    {
     "name": "stdout",
     "output_type": "stream",
     "text": [
      "_________________________________________________________________\n",
      "Layer (type)                 Output Shape              Param #   \n",
      "=================================================================\n",
      "dense_47 (Dense)             (None, 12544)             1266944   \n",
      "_________________________________________________________________\n",
      "leaky_re_lu_99 (LeakyReLU)   (None, 12544)             0         \n",
      "_________________________________________________________________\n",
      "reshape_5 (Reshape)          (None, 7, 7, 256)         0         \n",
      "_________________________________________________________________\n",
      "conv2d_transpose_9 (Conv2DTr (None, 14, 14, 256)       1048832   \n",
      "_________________________________________________________________\n",
      "leaky_re_lu_100 (LeakyReLU)  (None, 14, 14, 256)       0         \n",
      "_________________________________________________________________\n",
      "conv2d_transpose_10 (Conv2DT (None, 28, 28, 256)       1048832   \n",
      "_________________________________________________________________\n",
      "leaky_re_lu_101 (LeakyReLU)  (None, 28, 28, 256)       0         \n",
      "_________________________________________________________________\n",
      "conv2d_93 (Conv2D)           (None, 28, 28, 1)         12545     \n",
      "=================================================================\n",
      "Total params: 3,377,153\n",
      "Trainable params: 3,377,153\n",
      "Non-trainable params: 0\n",
      "_________________________________________________________________\n"
     ]
    }
   ],
   "source": [
    "from keras.models import Sequential\n",
    "from keras.layers import Dense\n",
    "from keras.layers import Reshape\n",
    "from keras.layers import Conv2D\n",
    "from keras.layers import Conv2DTranspose\n",
    "from keras.layers import LeakyReLU\n",
    "from keras.utils.vis_utils import plot_model\n",
    "from numpy import zeros\n",
    "from numpy.random import randn\n",
    "from keras.models import Sequential\n",
    "from keras.layers import Dense\n",
    "from keras.layers import Reshape\n",
    "from keras.layers import Conv2D\n",
    "from keras.layers import Conv2DTranspose\n",
    "from keras.layers import LeakyReLU\n",
    "from matplotlib import pyplot\n",
    " \n",
    "# define the standalone generator model\n",
    "def generator(latent_dim):\n",
    "    model = Sequential()\n",
    "    # foundation for 7x7 image\n",
    "    n_nodes = 256 * 7 * 7\n",
    "    model.add(Dense(n_nodes, input_dim=latent_dim))\n",
    "    model.add(LeakyReLU(alpha=0.2))\n",
    "    model.add(Reshape((7, 7, 256)))\n",
    "    # upsample to 14x14\n",
    "    model.add(Conv2DTranspose(256, (4,4), strides=(2,2), padding='same'))\n",
    "    model.add(LeakyReLU(alpha=0.2))\n",
    "    # upsample to 28x28\n",
    "    model.add(Conv2DTranspose(256, (4,4), strides=(2,2), padding='same'))\n",
    "    model.add(LeakyReLU(alpha=0.2))\n",
    "    model.add(Conv2D(1, (7,7), activation='sigmoid', padding='same'))\n",
    "    return model\n",
    " \n",
    "# define the size of the latent space\n",
    "latent_dim = 100\n",
    "# define the generator model\n",
    "model = define_generator(latent_dim)\n",
    "# summarize the model\n",
    "model.summary()\n",
    "# plot the model\n",
    "#plot_model(model, to_file='generator_plot.png', show_shapes=True, show_layer_names=True)"
   ]
  },
  {
   "cell_type": "markdown",
   "metadata": {},
   "source": [
    "## Generate Some Points\n",
    "\n",
    "We will use the untrained model to generate some points in the latent space. \n",
    "We will do this by sampling from a random Gaussian and then shaping those into images.  \n",
    "Don't worry, if the images look like cat vomit it's OK.  The model is not trained yet!"
   ]
  },
  {
   "cell_type": "code",
   "execution_count": 147,
   "metadata": {
    "collapsed": true
   },
   "outputs": [],
   "source": [
    "def gen_latent(latent_dim, num_samples):\n",
    "    # generate points in the latent space\n",
    "    x_input = randn(latent_dim * num_samples)\n",
    "    # reshape into a batch of inputs for the network\n",
    "    x_input = x_input.reshape(num_samples, latent_dim)\n",
    "    return x_input"
   ]
  },
  {
   "cell_type": "code",
   "execution_count": 148,
   "metadata": {
    "collapsed": true
   },
   "outputs": [],
   "source": [
    "## Update Fake Samples Function from Above to use the generator to generate samples and labels\n",
    "def generate_fake_samples(gen_model, latent_dim, num_samples):\n",
    "    # generate points in latent space\n",
    "    x_input = gen_latent(latent_dim, num_samples)\n",
    "    # predict outputs\n",
    "    X = gen_model.predict(x_input)\n",
    "    # create 'fake' class labels (0)\n",
    "    y = zeros((num_samples, 1))\n",
    "    return X, y"
   ]
  },
  {
   "cell_type": "code",
   "execution_count": 144,
   "metadata": {},
   "outputs": [
    {
     "data": {
      "image/png": "[encoded data removed]",
      "text/plain": [
       "<matplotlib.figure.Figure at 0x18c9dfdda0>"
      ]
     },
     "metadata": {},
     "output_type": "display_data"
    }
   ],
   "source": [
    "# size of the latent space\n",
    "latent_dim = 100\n",
    "# define the discriminator model\n",
    "model = define_generator(latent_dim)\n",
    "# generate samples\n",
    "num_samples = 25\n",
    "X, _ = generate_fake_samples(model, latent_dim, num_samples)\n",
    "# plot the generated samples\n",
    "for i in range(num_samples):\n",
    "    # define subplot\n",
    "    pyplot.subplot(5, 5, 1 + i)\n",
    "    # turn off axis labels\n",
    "    pyplot.axis('off')\n",
    "    # plot single image\n",
    "    pyplot.imshow(X[i, :, :, 0], cmap='gray_r')\n",
    "# show the figure\n",
    "pyplot.show()"
   ]
  },
  {
   "cell_type": "markdown",
   "metadata": {},
   "source": [
    "## Build the GAN and Train the Generator\n",
    "\n",
    "Now we have our Generator and Descriminator trained, its time to create the adversarial relationship that \n",
    "makes GANS so powerful.  It's important to note we are not creating a new model just introducing them to each other.\n",
    "\n",
    "*We will freeze the descrimnator layer and make the weights in the descrimnator not trainable."
   ]
  },
  {
   "cell_type": "code",
   "execution_count": 149,
   "metadata": {
    "collapsed": true
   },
   "outputs": [],
   "source": [
    "# define the combined generator and discriminator model, for updating the generator\n",
    "def gan(g_model, d_model):\n",
    "    # make weights in the discriminator not trainable\n",
    "    d_model.trainable = False\n",
    "    # connect them\n",
    "    model = Sequential()\n",
    "    # add generator\n",
    "    model.add(g_model)\n",
    "    # add the discriminator\n",
    "    model.add(d_model)\n",
    "    # compile model\n",
    "    opt = Adam(lr=0.0002, beta_1=0.5)\n",
    "    model.compile(loss='binary_crossentropy', optimizer=opt)\n",
    "    return model"
   ]
  },
  {
   "cell_type": "code",
   "execution_count": null,
   "metadata": {
    "collapsed": true
   },
   "outputs": [],
   "source": [
    "# size of the latent space\n",
    "latent_dim = 100\n",
    "# create the discriminator\n",
    "d_model = discriminator()\n",
    "# create the generator\n",
    "g_model = generator(latent_dim)\n",
    "# create the gan\n",
    "gan_model = gan(g_model, d_model)\n",
    "# summarize gan model\n",
    "gan_model.summary()\n",
    "# plot gan model\n",
    "#plot_model(gan_model, to_file='gan_plot.png', show_shapes=True, show_layer_names=True)"
   ]
  },
  {
   "cell_type": "code",
   "execution_count": null,
   "metadata": {
    "collapsed": true
   },
   "outputs": [],
   "source": [
    "# train the composite model\n",
    "def train_gan(gan_model, latent_dim, n_epochs=100, n_batch=256):\n",
    "    # manually enumerate epochs\n",
    "    for i in range(n_epochs):\n",
    "        # prepare points in latent space as input for the generator\n",
    "        x_gan = generate_latent_points(latent_dim, n_batch)\n",
    "        # create inverted labels for the fake samples\n",
    "        y_gan = ones((n_batch, 1))\n",
    "        # update the generator via the discriminator's error\n",
    "        gan_model.train_on_batch(x_gan, y_gan)\n"
   ]
  },
  {
   "cell_type": "markdown",
   "metadata": {},
   "source": [
    "### Train the Generator and Descriminator\n",
    "- number of batches with an epoch is how many times the batch size divides in a training set\n",
    "- discriminator is updated once per batch with ha;f true samples and half fake\n",
    "- monitor descriminator and generator loss for a crash in either"
   ]
  },
  {
   "cell_type": "code",
   "execution_count": 177,
   "metadata": {
    "collapsed": true
   },
   "outputs": [],
   "source": [
    "\n",
    "# train the generator and discriminator\n",
    "def train(g_model, d_model, gan_model, dataset, latent_dim, n_epochs=100, n_batch=256):\n",
    "    bat_per_epo = int(dataset.shape[0] / n_batch)\n",
    "    half_batch = int(n_batch / 2)\n",
    "    # manually enumerate epochs\n",
    "    for i in range(n_epochs):\n",
    "        # enumerate batches over the training set\n",
    "        for j in range(bat_per_epo):\n",
    "            # get randomly selected 'real' samples\n",
    "            X_real, y_real = real_sampler(dataset, half_batch)\n",
    "            # generate 'fake' examples\n",
    "            X_fake, y_fake = generate_fake_samples(g_model, latent_dim, half_batch)\n",
    "            # merge samples to create training set for the discriminator\n",
    "            X, y = np.vstack((X_real, X_fake)), np.vstack((y_real, y_fake))\n",
    "            # update discriminator model weights\n",
    "            d_loss, _ = d_model.train_on_batch(X, y)\n",
    "            # randomnly choose points in latent space as input for the generator\n",
    "            X_gan = gen_latent(latent_dim, n_batch)\n",
    "            # create false positives for the fake samples to fool the generator\n",
    "            y_gan = ones((n_batch, 1))\n",
    "            # update the generator via the discriminator's error\n",
    "            g_loss = gan_model.train_on_batch(X_gan, y_gan)\n",
    "            # summarize loss on this batch\n",
    "            print('>%d, %d/%d, d=%.3f, g=%.3f' % (i+1, j+1, bat_per_epo, d_loss, g_loss))\n",
    "            # evaluate the model performance, sometimes\n",
    "            if (i+1) % 10 == 0:\n",
    "                model_summary(i, g_model, d_model, dataset, latent_dim)"
   ]
  },
  {
   "cell_type": "markdown",
   "metadata": {},
   "source": [
    "## Evaluate Performance\n",
    "\n",
    "In most cases it is not possible to calcultae an objective error score for a Generator.  Therefore usually there is a human operator who subjectively verifies results.  Because we continue to train the generator it is possible that with each batch the results may get worse or better.  Ao how do we know when to stop?\n",
    "\n",
    "\n",
    "- Periodically evaluate accuracy of the classification on real and fake images\n",
    "- Periodically generate images for subjective review\n",
    "- Save the generator model after a certain number of epochs and compare these snapshots to see which is best\n"
   ]
  },
  {
   "cell_type": "code",
   "execution_count": 178,
   "metadata": {},
   "outputs": [],
   "source": [
    "def model_summary(epoc, g_model, d_model, dataset, latent_dim, n_samples=100):\n",
    "    #prepare real\n",
    "    X_real, y_real = real_sampler(dataset, n_samples)\n",
    "    #evaluate discriminator on real samples\n",
    "    _, acc_real = d_model.evaluate(X_real, y_real) \n",
    "    #prepare fake examples\n",
    "    X_fake, y_fake = fake_sampler(g_model, latent_dim, num_samples)\n",
    "    #evaluate discriminator on fake samples\n",
    "    _, acc_fake = d_model.evaluate(X_fake, y_fake, verbose=0)\n",
    "    # summarize discriminator performance\n",
    "    print('>Accuracy real: %.0f%%, fake: %.0f%%' % (acc_real*100, acc_fake*100))\n",
    "    # save plot\n",
    "    save_plot(x_fake, epoch)\n",
    "    # save the generator model tile file\n",
    "    filename = 'generator_model_%03d.h5' % (epoch + 1)\n",
    "    g_model.save(filename)"
   ]
  },
  {
   "cell_type": "markdown",
   "metadata": {},
   "source": [
    "## Save Plot Periodically"
   ]
  },
  {
   "cell_type": "code",
   "execution_count": 180,
   "metadata": {
    "collapsed": true
   },
   "outputs": [],
   "source": [
    "def save_plot(examples, epoch, n=10):\n",
    "    # plot images\n",
    "    for i in range(n * n):\n",
    "        # define subplot\n",
    "        pyplot.subplot(n, n, 1 + i)\n",
    "        # turn off axis\n",
    "        pyplot.axis('off')\n",
    "        # plot raw pixel data\n",
    "        pyplot.imshow(examples[i, :, :, 0], cmap='gray_r')\n",
    "        # save plot to file\n",
    "        filename = 'generated_plot_e%03d.png' % (epoch+1)\n",
    "        pyplot.savefig(filename)\n",
    "        pyplot.close()"
   ]
  },
  {
   "cell_type": "code",
   "execution_count": 176,
   "metadata": {},
   "outputs": [
    {
     "name": "stderr",
     "output_type": "stream",
     "text": [
      "/anaconda3/lib/python3.6/site-packages/keras/engine/training.py:973: UserWarning: Discrepancy between trainable weights and collected trainable weights, did you set `model.trainable` without calling `model.compile` after ?\n",
      "  'Discrepancy between trainable weights and collected trainable'\n"
     ]
    },
    {
     "name": "stdout",
     "output_type": "stream",
     "text": [
      ">1, 1/234, d=0.692, g=0.713\n",
      ">1, 2/234, d=0.680, g=0.724\n",
      ">1, 3/234, d=0.670, g=0.736\n",
      ">1, 4/234, d=0.668, g=0.744\n",
      ">1, 5/234, d=0.660, g=0.753\n",
      ">1, 6/234, d=0.652, g=0.755\n",
      ">1, 7/234, d=0.646, g=0.753\n",
      ">1, 8/234, d=0.649, g=0.744\n",
      ">1, 9/234, d=0.650, g=0.732\n",
      ">1, 10/234, d=0.649, g=0.721\n",
      ">1, 11/234, d=0.650, g=0.715\n",
      ">1, 12/234, d=0.651, g=0.713\n",
      ">1, 13/234, d=0.643, g=0.713\n",
      ">1, 14/234, d=0.640, g=0.713\n",
      ">1, 15/234, d=0.643, g=0.715\n",
      ">1, 16/234, d=0.631, g=0.717\n",
      ">1, 17/234, d=0.633, g=0.718\n",
      ">1, 18/234, d=0.619, g=0.720\n",
      ">1, 19/234, d=0.618, g=0.723\n",
      ">1, 20/234, d=0.614, g=0.725\n",
      ">1, 21/234, d=0.603, g=0.727\n",
      ">1, 22/234, d=0.599, g=0.731\n",
      ">1, 23/234, d=0.594, g=0.733\n",
      ">1, 24/234, d=0.584, g=0.737\n",
      ">1, 25/234, d=0.572, g=0.740\n",
      ">1, 26/234, d=0.579, g=0.744\n",
      ">1, 27/234, d=0.570, g=0.749\n",
      ">1, 28/234, d=0.570, g=0.752\n",
      ">1, 29/234, d=0.561, g=0.758\n",
      ">1, 30/234, d=0.548, g=0.763\n",
      ">1, 31/234, d=0.537, g=0.768\n",
      ">1, 32/234, d=0.524, g=0.774\n",
      ">1, 33/234, d=0.519, g=0.781\n",
      ">1, 34/234, d=0.515, g=0.787\n",
      ">1, 35/234, d=0.498, g=0.796\n",
      ">1, 36/234, d=0.495, g=0.802\n",
      ">1, 37/234, d=0.477, g=0.811\n",
      ">1, 38/234, d=0.481, g=0.820\n",
      ">1, 39/234, d=0.464, g=0.829\n",
      ">1, 40/234, d=0.455, g=0.840\n",
      ">1, 41/234, d=0.444, g=0.851\n",
      ">1, 42/234, d=0.428, g=0.862\n",
      ">1, 43/234, d=0.414, g=0.876\n",
      ">1, 44/234, d=0.401, g=0.889\n",
      ">1, 45/234, d=0.387, g=0.904\n",
      ">1, 46/234, d=0.367, g=0.919\n",
      ">1, 47/234, d=0.377, g=0.935\n",
      ">1, 48/234, d=0.360, g=0.952\n",
      ">1, 49/234, d=0.334, g=0.970\n",
      ">1, 50/234, d=0.338, g=0.989\n",
      ">1, 51/234, d=0.319, g=1.008\n",
      ">1, 52/234, d=0.304, g=1.033\n",
      ">1, 53/234, d=0.303, g=1.054\n",
      ">1, 54/234, d=0.281, g=1.079\n",
      ">1, 55/234, d=0.272, g=1.105\n",
      ">1, 56/234, d=0.261, g=1.132\n",
      ">1, 57/234, d=0.264, g=1.160\n",
      ">1, 58/234, d=0.234, g=1.190\n",
      ">1, 59/234, d=0.233, g=1.221\n",
      ">1, 60/234, d=0.210, g=1.255\n",
      ">1, 61/234, d=0.209, g=1.289\n",
      ">1, 62/234, d=0.193, g=1.322\n",
      ">1, 63/234, d=0.187, g=1.359\n"
     ]
    },
    {
     "ename": "KeyboardInterrupt",
     "evalue": "",
     "output_type": "error",
     "traceback": [
      "\u001b[0;31m---------------------------------------------------------------------------\u001b[0m",
      "\u001b[0;31mKeyboardInterrupt\u001b[0m                         Traceback (most recent call last)",
      "\u001b[0;32m<ipython-input-176-c9bf5c29164e>\u001b[0m in \u001b[0;36m<module>\u001b[0;34m()\u001b[0m\n\u001b[1;32m     10\u001b[0m \u001b[0mdataset\u001b[0m \u001b[0;34m=\u001b[0m \u001b[0mload_real_samples\u001b[0m\u001b[0;34m(\u001b[0m\u001b[0;34m)\u001b[0m\u001b[0;34m\u001b[0m\u001b[0m\n\u001b[1;32m     11\u001b[0m \u001b[0;31m# train model\u001b[0m\u001b[0;34m\u001b[0m\u001b[0;34m\u001b[0m\u001b[0m\n\u001b[0;32m---> 12\u001b[0;31m \u001b[0mtrain\u001b[0m\u001b[0;34m(\u001b[0m\u001b[0mg_model\u001b[0m\u001b[0;34m,\u001b[0m \u001b[0md_model\u001b[0m\u001b[0;34m,\u001b[0m \u001b[0mgan_model\u001b[0m\u001b[0;34m,\u001b[0m \u001b[0mdataset\u001b[0m\u001b[0;34m,\u001b[0m \u001b[0mlatent_dim\u001b[0m\u001b[0;34m)\u001b[0m\u001b[0;34m\u001b[0m\u001b[0m\n\u001b[0m",
      "\u001b[0;32m<ipython-input-173-4e34f9335943>\u001b[0m in \u001b[0;36mtrain\u001b[0;34m(g_model, d_model, gan_model, dataset, latent_dim, n_epochs, n_batch)\u001b[0m\n\u001b[1;32m     19\u001b[0m             \u001b[0mX_gan\u001b[0m \u001b[0;34m=\u001b[0m \u001b[0mgen_latent\u001b[0m\u001b[0;34m(\u001b[0m\u001b[0mlatent_dim\u001b[0m\u001b[0;34m,\u001b[0m \u001b[0mn_batch\u001b[0m\u001b[0;34m)\u001b[0m\u001b[0;34m\u001b[0m\u001b[0m\n\u001b[1;32m     20\u001b[0m             \u001b[0;31m# create false positives for the fake samples to fool the generator\u001b[0m\u001b[0;34m\u001b[0m\u001b[0;34m\u001b[0m\u001b[0m\n\u001b[0;32m---> 21\u001b[0;31m             \u001b[0my_gan\u001b[0m \u001b[0;34m=\u001b[0m \u001b[0mones\u001b[0m\u001b[0;34m(\u001b[0m\u001b[0;34m(\u001b[0m\u001b[0mn_batch\u001b[0m\u001b[0;34m,\u001b[0m \u001b[0;36m1\u001b[0m\u001b[0;34m)\u001b[0m\u001b[0;34m)\u001b[0m\u001b[0;34m\u001b[0m\u001b[0m\n\u001b[0m\u001b[1;32m     22\u001b[0m             \u001b[0;31m# update the generator via the discriminator's error\u001b[0m\u001b[0;34m\u001b[0m\u001b[0;34m\u001b[0m\u001b[0m\n\u001b[1;32m     23\u001b[0m             \u001b[0mg_loss\u001b[0m \u001b[0;34m=\u001b[0m \u001b[0mgan_model\u001b[0m\u001b[0;34m.\u001b[0m\u001b[0mtrain_on_batch\u001b[0m\u001b[0;34m(\u001b[0m\u001b[0mX_gan\u001b[0m\u001b[0;34m,\u001b[0m \u001b[0my_gan\u001b[0m\u001b[0;34m)\u001b[0m\u001b[0;34m\u001b[0m\u001b[0m\n",
      "\u001b[0;31mKeyboardInterrupt\u001b[0m: "
     ]
    }
   ],
   "source": [
    "# size of the latent space\n",
    "latent_dim = 100\n",
    "# create the discriminator\n",
    "d_model = descriminator()\n",
    "# create the generator\n",
    "g_model = generator(latent_dim)\n",
    "# create the gan\n",
    "gan_model = gan(g_model, d_model)\n",
    "# load image data\n",
    "dataset = load_real_samples()\n",
    "# train model\n",
    "train(g_model, d_model, gan_model, dataset, latent_dim)"
   ]
  }
 ],
 "metadata": {
  "kernelspec": {
   "display_name": "Python 3",
   "language": "python",
   "name": "python3"
  },
  "language_info": {
   "codemirror_mode": {
    "name": "ipython",
    "version": 3
   },
   "file_extension": ".py",
   "mimetype": "text/x-python",
   "name": "python",
   "nbconvert_exporter": "python",
   "pygments_lexer": "ipython3",
   "version": "3.6.0"
  }
 },
 "nbformat": 4,
 "nbformat_minor": 2
}
